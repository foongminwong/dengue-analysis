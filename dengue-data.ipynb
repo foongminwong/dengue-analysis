{
 "cells": [
  {
   "cell_type": "code",
   "execution_count": 221,
   "metadata": {},
   "outputs": [],
   "source": [
    "# Importing the libraries\n",
    "import numpy as np\n",
    "import matplotlib.pyplot as plt\n",
    "import pandas as pd\n",
    "import seaborn as sns\n",
    "import os\n",
    "import glob\n"
   ]
  },
  {
   "cell_type": "code",
   "execution_count": 223,
   "metadata": {},
   "outputs": [],
   "source": [
    "\n",
    "# Initialize count as the first dataset year\n",
    "count = 2010\n",
    "\n",
    "# Read 2010-2017 dengue data in a loop\n",
    "for filename in glob.glob('*bilangan-kes-penyakit-dengue-haemorrhagic-fever-tahunan-mengikut-negeri-dan-kumpulan-umur.xlsx'):\n",
    "    data = pd.read_excel(pd.ExcelFile(filename))\n",
    "    \n",
    "    # Set the columns names to the age category and multiple Malaysian States name\n",
    "    data.columns = data.iloc[1]\n",
    "    \n",
    "    # Remove the first two unrelated rows\n",
    "    data = data.iloc[2:]\n",
    "    \n",
    "    # Rename 'Kumpulan Umur' to  'Age Group'\n",
    "    data.rename(columns = {'KUMPULAN UMUR':'AGE_GROUP'}, inplace = True)\n",
    "    \n",
    "    # Delete the 2 federal territories and the last column \n",
    "    # by specifying their column names ('WP KUALA LUMPUR', 'WP LABUAN', 'MALAYSIA')\n",
    "    del data['WP KUALA LUMPUR']\n",
    "    del data['WP LABUAN']\n",
    "    del data['MALAYSIA']\n",
    "    \n",
    "    # Drop the unnecessary last row 'GRAND TOTAL'\n",
    "    data = data[:-1]\n",
    "    \n",
    "    # Create a new column called 'AGE_GROUP_TOTAL' to store the SUM of each age group\n",
    "    col_list= list(data)\n",
    "    col_list.remove('AGE_GROUP')\n",
    "    \n",
    "    data['AGE_GROUP_TOTAL'] = data[col_list].sum(axis=1)\n",
    "    data['AGE_GROUP'] = pd.Categorical(data.AGE_GROUP)\n",
    "    \n",
    "    # IGNORE THIS, going to work on state for next presentation\n",
    "    # data.loc['STATE_TOTAL'] = data.iloc[:, 1:].sum()\n",
    "\n",
    "    \n",
    "    # Remove columns with NaN\n",
    "    data = data.dropna(axis='columns',how='all')\n",
    "    \n",
    "    # Get the current directory storing 2010-2017 Dengue Hemorrhagic Fever (DHF) hemorrhagic datasets\n",
    "    path = os.getcwd()\n",
    "    \n",
    "    # Export formatted data into Excel file and store them to local folder\n",
    "    data.to_excel(path+\"/formatted/dengue%s.xlsx\" % count,header=True, index=False)\n",
    "    \n",
    "    # Increment count to next year\n",
    "    count+=1\n",
    "    \n"
   ]
  },
  {
   "cell_type": "code",
   "execution_count": null,
   "metadata": {},
   "outputs": [],
   "source": []
  }
 ],
 "metadata": {
  "kernelspec": {
   "display_name": "Python 3",
   "language": "python",
   "name": "python3"
  },
  "language_info": {
   "codemirror_mode": {
    "name": "ipython",
    "version": 3
   },
   "file_extension": ".py",
   "mimetype": "text/x-python",
   "name": "python",
   "nbconvert_exporter": "python",
   "pygments_lexer": "ipython3",
   "version": "3.7.4"
  }
 },
 "nbformat": 4,
 "nbformat_minor": 2
}
